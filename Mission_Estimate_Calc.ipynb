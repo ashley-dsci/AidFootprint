{
 "cells": [
  {
   "cell_type": "code",
   "execution_count": 1,
   "metadata": {
    "collapsed": true
   },
   "outputs": [],
   "source": [
    "import pandas as pd\n",
    "import numpy as np"
   ]
  },
  {
   "cell_type": "code",
   "execution_count": 16,
   "metadata": {
    "collapsed": false
   },
   "outputs": [],
   "source": [
    "#weekly number of flights (people)\n",
    "#short 2hrs/1000 miles, Med 4 hrs/2000 miles, Long 9 hours/5500 miles, Extended 15+ hours/ 10000+ miles\n",
    "#units in tons\n",
    "#source http://cotap.org/carbon-emissions-calculator/\n",
    "flightLen={'Short': .54, 'Medium': .64, 'Long': 2.02, 'Extended': 3.86}\n",
    "avgFlight = (.54+.64+2.02+3.86)/4"
   ]
  },
  {
   "cell_type": "code",
   "execution_count": 2,
   "metadata": {
    "collapsed": true
   },
   "outputs": [],
   "source": [
    "#weekly fleep fuel consumption\n",
    "    #fuel 1:.01 tons\n",
    "    \n",
    "#number of local responders\n",
    "#number of internatinoal responders\n",
    "#weekly weight of shipments by sea\n",
    "#weekly weight of shipments by land\n",
    "#weekly weight of shipments by air\n",
    "#number of field offices\n",
    "#primary power source"
   ]
  },
  {
   "cell_type": "code",
   "execution_count": 3,
   "metadata": {
    "collapsed": true
   },
   "outputs": [],
   "source": [
    "#\n",
    "def MissionEst1(flights, fuel, localResp, intResp, shipAir, shipS, shipL, offices, power):\n",
    "    total = flights * avgFlight + fuel* .01\n",
    "            localResp * + intResp * +\n",
    "        "
   ]
  },
  {
   "cell_type": "code",
   "execution_count": null,
   "metadata": {
    "collapsed": false
   },
   "outputs": [],
   "source": [
    "#this function takes into account the aid organization orgination and distance to response location\n",
    "def MissionEst2(flights, fuel, localResp, intResp, shipAir, shipS, shipL, offices, power, travelDist):\n",
    "    "
   ]
  },
  {
   "cell_type": "code",
   "execution_count": 5,
   "metadata": {
    "collapsed": true
   },
   "outputs": [],
   "source": []
  },
  {
   "cell_type": "code",
   "execution_count": 6,
   "metadata": {
    "collapsed": true
   },
   "outputs": [],
   "source": []
  },
  {
   "cell_type": "code",
   "execution_count": 7,
   "metadata": {
    "collapsed": true
   },
   "outputs": [],
   "source": []
  },
  {
   "cell_type": "code",
   "execution_count": 8,
   "metadata": {
    "collapsed": true
   },
   "outputs": [],
   "source": []
  },
  {
   "cell_type": "code",
   "execution_count": 9,
   "metadata": {
    "collapsed": true
   },
   "outputs": [],
   "source": []
  },
  {
   "cell_type": "code",
   "execution_count": 10,
   "metadata": {
    "collapsed": true
   },
   "outputs": [],
   "source": []
  },
  {
   "cell_type": "code",
   "execution_count": null,
   "metadata": {
    "collapsed": true
   },
   "outputs": [],
   "source": []
  }
 ],
 "metadata": {
  "kernelspec": {
   "display_name": "Python 2",
   "language": "python",
   "name": "python2"
  },
  "language_info": {
   "codemirror_mode": {
    "name": "ipython",
    "version": 2
   },
   "file_extension": ".py",
   "mimetype": "text/x-python",
   "name": "python",
   "nbconvert_exporter": "python",
   "pygments_lexer": "ipython2",
   "version": "2.7.11"
  }
 },
 "nbformat": 4,
 "nbformat_minor": 0
}
